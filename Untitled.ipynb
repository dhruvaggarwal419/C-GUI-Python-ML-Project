{
 "cells": [
  {
   "cell_type": "code",
   "execution_count": 1,
   "id": "b00075ac-08eb-48ee-934e-45b26335a0e4",
   "metadata": {},
   "outputs": [],
   "source": [
    "import pandas as pd\n",
    "import numpy as np\n",
    "from tensorflow.keras.models import Sequential\n",
    "from tensorflow.keras.layers import Dense, LSTM, Embedding, Dropout\n",
    "from tensorflow.keras.preprocessing.text import Tokenizer\n",
    "from tensorflow.keras.preprocessing.sequence import pad_sequences\n",
    "from sklearn.model_selection import train_test_split"
   ]
  },
  {
   "cell_type": "code",
   "execution_count": 2,
   "id": "8eee7858-dd73-4a75-925c-d96d45d0e254",
   "metadata": {},
   "outputs": [],
   "source": [
    "df = pd.read_csv('expressions.csv')"
   ]
  },
  {
   "cell_type": "code",
   "execution_count": 3,
   "id": "8c176d85-8f03-4221-86b0-86330c38d313",
   "metadata": {},
   "outputs": [],
   "source": [
    "X_text = df['Expression']\n",
    "y = df['Valid'].values"
   ]
  },
  {
   "cell_type": "code",
   "execution_count": 4,
   "id": "891167ad-7503-4723-a5ed-ba31eff08b81",
   "metadata": {},
   "outputs": [],
   "source": [
    "tokenizer = Tokenizer(char_level=True)\n",
    "tokenizer.fit_on_texts(X_text)\n",
    "X_seq = tokenizer.texts_to_sequences(X_text)"
   ]
  },
  {
   "cell_type": "code",
   "execution_count": 5,
   "id": "538e0fad-10d0-4c5c-a6b9-5164292c11a5",
   "metadata": {},
   "outputs": [],
   "source": [
    "max_len = 30  \n",
    "X_pad = pad_sequences(X_seq, maxlen=max_len, padding='post')\n",
    "vocab_size = len(tokenizer.word_index) + 1 "
   ]
  },
  {
   "cell_type": "code",
   "execution_count": 6,
   "id": "30bf93b3-c0a9-4f15-8dcd-aedc2cf07e4a",
   "metadata": {},
   "outputs": [
    {
     "name": "stderr",
     "output_type": "stream",
     "text": [
      "C:\\Users\\aarch\\AppData\\Local\\Programs\\Python\\Python312\\Lib\\site-packages\\keras\\src\\layers\\core\\embedding.py:90: UserWarning: Argument `input_length` is deprecated. Just remove it.\n",
      "  warnings.warn(\n"
     ]
    }
   ],
   "source": [
    "X_train, X_test, y_train, y_test = train_test_split(X_pad, y, test_size=0.2, random_state=42)\n",
    "model = Sequential()\n",
    "model.add(Embedding(input_dim=vocab_size, output_dim=32, input_length=max_len))\n",
    "model.add(LSTM(64, return_sequences=True))\n",
    "model.add(Dropout(0.3))\n",
    "model.add(LSTM(32))\n",
    "model.add(Dropout(0.3))\n",
    "model.add(Dense(1, activation='sigmoid'))"
   ]
  },
  {
   "cell_type": "code",
   "execution_count": 7,
   "id": "2020fed5-f68e-43e3-9064-f2d40eb7da56",
   "metadata": {},
   "outputs": [
    {
     "name": "stdout",
     "output_type": "stream",
     "text": [
      "Epoch 1/10\n",
      "\u001b[1m197/197\u001b[0m \u001b[32m━━━━━━━━━━━━━━━━━━━━\u001b[0m\u001b[37m\u001b[0m \u001b[1m37s\u001b[0m 133ms/step - accuracy: 0.6258 - loss: 0.6284 - val_accuracy: 0.8600 - val_loss: 0.3432\n",
      "Epoch 2/10\n",
      "\u001b[1m197/197\u001b[0m \u001b[32m━━━━━━━━━━━━━━━━━━━━\u001b[0m\u001b[37m\u001b[0m \u001b[1m24s\u001b[0m 122ms/step - accuracy: 0.8734 - loss: 0.3298 - val_accuracy: 0.8941 - val_loss: 0.2771\n",
      "Epoch 3/10\n",
      "\u001b[1m197/197\u001b[0m \u001b[32m━━━━━━━━━━━━━━━━━━━━\u001b[0m\u001b[37m\u001b[0m \u001b[1m23s\u001b[0m 117ms/step - accuracy: 0.9103 - loss: 0.2325 - val_accuracy: 0.9848 - val_loss: 0.0677\n",
      "Epoch 4/10\n",
      "\u001b[1m197/197\u001b[0m \u001b[32m━━━━━━━━━━━━━━━━━━━━\u001b[0m\u001b[37m\u001b[0m \u001b[1m23s\u001b[0m 118ms/step - accuracy: 0.9877 - loss: 0.0484 - val_accuracy: 0.9800 - val_loss: 0.0756\n",
      "Epoch 5/10\n",
      "\u001b[1m197/197\u001b[0m \u001b[32m━━━━━━━━━━━━━━━━━━━━\u001b[0m\u001b[37m\u001b[0m \u001b[1m23s\u001b[0m 115ms/step - accuracy: 0.9915 - loss: 0.0364 - val_accuracy: 0.9934 - val_loss: 0.0241\n",
      "Epoch 6/10\n",
      "\u001b[1m197/197\u001b[0m \u001b[32m━━━━━━━━━━━━━━━━━━━━\u001b[0m\u001b[37m\u001b[0m \u001b[1m24s\u001b[0m 121ms/step - accuracy: 0.9975 - loss: 0.0125 - val_accuracy: 1.0000 - val_loss: 0.0034\n",
      "Epoch 7/10\n",
      "\u001b[1m197/197\u001b[0m \u001b[32m━━━━━━━━━━━━━━━━━━━━\u001b[0m\u001b[37m\u001b[0m \u001b[1m24s\u001b[0m 122ms/step - accuracy: 0.9996 - loss: 0.0048 - val_accuracy: 1.0000 - val_loss: 0.0023\n",
      "Epoch 8/10\n",
      "\u001b[1m197/197\u001b[0m \u001b[32m━━━━━━━━━━━━━━━━━━━━\u001b[0m\u001b[37m\u001b[0m \u001b[1m29s\u001b[0m 149ms/step - accuracy: 0.9787 - loss: 0.0845 - val_accuracy: 1.0000 - val_loss: 0.0069\n",
      "Epoch 9/10\n",
      "\u001b[1m197/197\u001b[0m \u001b[32m━━━━━━━━━━━━━━━━━━━━\u001b[0m\u001b[37m\u001b[0m \u001b[1m40s\u001b[0m 144ms/step - accuracy: 0.9992 - loss: 0.0088 - val_accuracy: 0.9998 - val_loss: 0.0032\n",
      "Epoch 10/10\n",
      "\u001b[1m197/197\u001b[0m \u001b[32m━━━━━━━━━━━━━━━━━━━━\u001b[0m\u001b[37m\u001b[0m \u001b[1m30s\u001b[0m 151ms/step - accuracy: 0.9999 - loss: 0.0044 - val_accuracy: 1.0000 - val_loss: 0.0023\n"
     ]
    }
   ],
   "source": [
    "model.compile(optimizer='adam', loss='binary_crossentropy', metrics=['accuracy'])\n",
    "history = model.fit(\n",
    "    X_train, y_train,\n",
    "    epochs=10,         \n",
    "    batch_size=256,\n",
    "    validation_split=0.1\n",
    ")"
   ]
  },
  {
   "cell_type": "code",
   "execution_count": 8,
   "id": "e6e1e4fe-7441-4c86-a632-0992dcce0849",
   "metadata": {},
   "outputs": [
    {
     "name": "stdout",
     "output_type": "stream",
     "text": [
      "\u001b[1m438/438\u001b[0m \u001b[32m━━━━━━━━━━━━━━━━━━━━\u001b[0m\u001b[37m\u001b[0m \u001b[1m9s\u001b[0m 20ms/step - accuracy: 0.9999 - loss: 0.0026\n",
      "Test Accuracy: 99.99%\n"
     ]
    }
   ],
   "source": [
    "loss, accuracy = model.evaluate(X_test, y_test)\n",
    "print(f\"Test Accuracy: {accuracy*100:.2f}%\")"
   ]
  },
  {
   "cell_type": "code",
   "execution_count": 9,
   "id": "cd91e6c7-49c1-495f-b654-2b4963e56c0b",
   "metadata": {},
   "outputs": [
    {
     "name": "stdout",
     "output_type": "stream",
     "text": [
      "\u001b[1m1/1\u001b[0m \u001b[32m━━━━━━━━━━━━━━━━━━━━\u001b[0m\u001b[37m\u001b[0m \u001b[1m1s\u001b[0m 763ms/step\n",
      "6-6*2 -> Valid\n",
      "4+2 -> Valid\n",
      "2==3 -> Invalid\n",
      "2=2 -> Invalid\n",
      "6===6 -> Invalid\n",
      "2+3-4*1 -> Valid\n"
     ]
    }
   ],
   "source": [
    "new_expressions = ['6-6*2', '4+2', '2==3', '2=2', '6===6','2+3-4*1']\n",
    "new_seq = tokenizer.texts_to_sequences(new_expressions)\n",
    "new_pad = pad_sequences(new_seq, maxlen=max_len, padding='post')\n",
    "predictions = model.predict(new_pad)\n",
    "for expr, pred in zip(new_expressions, predictions):\n",
    "    print(f\"{expr} -> {'Valid' if pred>=0.5 else 'Invalid'}\")"
   ]
  },
  {
   "cell_type": "code",
   "execution_count": 10,
   "id": "fe4ad9c6-86a2-4a17-b90f-73fabbe0170e",
   "metadata": {},
   "outputs": [],
   "source": [
    "model.save('expressions.keras')"
   ]
  },
  {
   "cell_type": "code",
   "execution_count": 15,
   "id": "1c9853ad-05bb-4656-8af2-6821263dceb5",
   "metadata": {},
   "outputs": [],
   "source": [
    "import pickle"
   ]
  },
  {
   "cell_type": "code",
   "execution_count": 16,
   "id": "c0592d50-6c2e-434e-9208-5784dc258470",
   "metadata": {},
   "outputs": [],
   "source": [
    "with open('tokenizer.pkl', 'wb') as f:\n",
    "    pickle.dump(tokenizer, f)"
   ]
  },
  {
   "cell_type": "code",
   "execution_count": null,
   "id": "cd41f5a5-5f05-4311-a516-1a68d7a74e92",
   "metadata": {},
   "outputs": [],
   "source": []
  }
 ],
 "metadata": {
  "kernelspec": {
   "display_name": "Python 3 (ipykernel)",
   "language": "python",
   "name": "python3"
  },
  "language_info": {
   "codemirror_mode": {
    "name": "ipython",
    "version": 3
   },
   "file_extension": ".py",
   "mimetype": "text/x-python",
   "name": "python",
   "nbconvert_exporter": "python",
   "pygments_lexer": "ipython3",
   "version": "3.12.4"
  }
 },
 "nbformat": 4,
 "nbformat_minor": 5
}
